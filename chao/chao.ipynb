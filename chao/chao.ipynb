{
 "cells": [
  {
   "cell_type": "code",
   "execution_count": 1,
   "metadata": {},
   "outputs": [],
   "source": [
    "import matplotlib\n",
    "import matplotlib.pyplot as plt\n",
    "import numpy as np"
   ]
  },
  {
   "cell_type": "code",
   "execution_count": 2,
   "metadata": {},
   "outputs": [],
   "source": [
    "x = np.arange(-5, 5, 0.2)\n",
    "y = x**3 + x + 1"
   ]
  },
  {
   "cell_type": "code",
   "execution_count": 3,
   "metadata": {},
   "outputs": [
    {
     "data": {
      "text/plain": [
       "array([-5.0000000e+00, -4.8000000e+00, -4.6000000e+00, -4.4000000e+00,\n",
       "       -4.2000000e+00, -4.0000000e+00, -3.8000000e+00, -3.6000000e+00,\n",
       "       -3.4000000e+00, -3.2000000e+00, -3.0000000e+00, -2.8000000e+00,\n",
       "       -2.6000000e+00, -2.4000000e+00, -2.2000000e+00, -2.0000000e+00,\n",
       "       -1.8000000e+00, -1.6000000e+00, -1.4000000e+00, -1.2000000e+00,\n",
       "       -1.0000000e+00, -8.0000000e-01, -6.0000000e-01, -4.0000000e-01,\n",
       "       -2.0000000e-01,  4.4408921e-15,  2.0000000e-01,  4.0000000e-01,\n",
       "        6.0000000e-01,  8.0000000e-01,  1.0000000e+00,  1.2000000e+00,\n",
       "        1.4000000e+00,  1.6000000e+00,  1.8000000e+00,  2.0000000e+00,\n",
       "        2.2000000e+00,  2.4000000e+00,  2.6000000e+00,  2.8000000e+00,\n",
       "        3.0000000e+00,  3.2000000e+00,  3.4000000e+00,  3.6000000e+00,\n",
       "        3.8000000e+00,  4.0000000e+00,  4.2000000e+00,  4.4000000e+00,\n",
       "        4.6000000e+00,  4.8000000e+00])"
      ]
     },
     "execution_count": 3,
     "metadata": {},
     "output_type": "execute_result"
    }
   ],
   "source": [
    "x"
   ]
  },
  {
   "cell_type": "code",
   "execution_count": 4,
   "metadata": {},
   "outputs": [
    {
     "data": {
      "text/plain": [
       "array([-129.   , -114.392, -100.936,  -88.584,  -77.288,  -67.   ,\n",
       "        -57.672,  -49.256,  -41.704,  -34.968,  -29.   ,  -23.752,\n",
       "        -19.176,  -15.224,  -11.848,   -9.   ,   -6.632,   -4.696,\n",
       "         -3.144,   -1.928,   -1.   ,   -0.312,    0.184,    0.536,\n",
       "          0.792,    1.   ,    1.208,    1.464,    1.816,    2.312,\n",
       "          3.   ,    3.928,    5.144,    6.696,    8.632,   11.   ,\n",
       "         13.848,   17.224,   21.176,   25.752,   31.   ,   36.968,\n",
       "         43.704,   51.256,   59.672,   69.   ,   79.288,   90.584,\n",
       "        102.936,  116.392])"
      ]
     },
     "execution_count": 4,
     "metadata": {},
     "output_type": "execute_result"
    }
   ],
   "source": [
    "y"
   ]
  },
  {
   "cell_type": "code",
   "execution_count": 5,
   "metadata": {},
   "outputs": [
    {
     "name": "stdout",
     "output_type": "stream",
     "text": [
      "['seaborn-talk', 'dark_background', 'Solarize_Light2', 'seaborn-bright', 'seaborn-paper', '_classic_test', 'seaborn-dark-palette', 'seaborn-whitegrid', 'seaborn-notebook', 'seaborn-ticks', 'seaborn-white', 'seaborn-poster', 'ggplot', 'fivethirtyeight', 'grayscale', 'seaborn-pastel', 'fast', 'classic', 'seaborn-muted', 'seaborn-darkgrid', 'seaborn', 'seaborn-dark', 'tableau-colorblind10', 'seaborn-deep', 'seaborn-colorblind', 'bmh']\n"
     ]
    },
    {
     "data": {
      "image/png": "[encoded data removed]",
      "text/plain": [
       "<Figure size 432x216 with 1 Axes>"
      ]
     },
     "metadata": {},
     "output_type": "display_data"
    }
   ],
   "source": [
    "print(plt.style.available)\n",
    "plt.style.use('seaborn-white')\n",
    "fig = plt.figure(figsize=(6, 3))\n",
    "ax = fig.add_subplot(111)\n",
    "ax.plot(x, y, \"b\")\n",
    "ax.grid()\n",
    "plt.show()\n",
    "fig.savefig(\"image/test.png\")\n",
    " "
   ]
  },
  {
   "cell_type": "code",
   "execution_count": 6,
   "metadata": {},
   "outputs": [],
   "source": [
    "f = np.array([0]*10)"
   ]
  },
  {
   "cell_type": "code",
   "execution_count": 7,
   "metadata": {},
   "outputs": [
    {
     "data": {
      "text/plain": [
       "array([0, 0, 0, 0, 0, 0, 0, 0, 0, 0])"
      ]
     },
     "execution_count": 7,
     "metadata": {},
     "output_type": "execute_result"
    }
   ],
   "source": [
    "f"
   ]
  },
  {
   "cell_type": "code",
   "execution_count": 8,
   "metadata": {},
   "outputs": [],
   "source": [
    "from scipy.spatial.distance import cdist\n",
    "x = np.array([[3], [2], [1], [2]])\n",
    "y = np.array([[2],[1], [0], [1]])\n",
    "z = cdist(x,y)"
   ]
  },
  {
   "cell_type": "code",
   "execution_count": 9,
   "metadata": {},
   "outputs": [
    {
     "data": {
      "text/plain": [
       "array([[1., 2., 3., 2.],\n",
       "       [0., 1., 2., 1.],\n",
       "       [1., 0., 1., 0.],\n",
       "       [0., 1., 2., 1.]])"
      ]
     },
     "execution_count": 9,
     "metadata": {},
     "output_type": "execute_result"
    }
   ],
   "source": [
    "z"
   ]
  },
  {
   "cell_type": "code",
   "execution_count": 10,
   "metadata": {},
   "outputs": [],
   "source": [
    "argmin = np.argmin(z, axis=1)"
   ]
  },
  {
   "cell_type": "code",
   "execution_count": 11,
   "metadata": {},
   "outputs": [
    {
     "data": {
      "text/plain": [
       "array([0, 0, 1, 0])"
      ]
     },
     "execution_count": 11,
     "metadata": {},
     "output_type": "execute_result"
    }
   ],
   "source": [
    "argmin"
   ]
  },
  {
   "cell_type": "code",
   "execution_count": 12,
   "metadata": {},
   "outputs": [],
   "source": [
    "m = np.random.randint(low = 1, high=20, size=10)"
   ]
  },
  {
   "cell_type": "code",
   "execution_count": 13,
   "metadata": {},
   "outputs": [
    {
     "data": {
      "text/plain": [
       "array([ 1,  5,  6,  6, 10, 10, 13, 16, 18, 19])"
      ]
     },
     "execution_count": 13,
     "metadata": {},
     "output_type": "execute_result"
    }
   ],
   "source": [
    "m.sort()\n",
    "m"
   ]
  },
  {
   "cell_type": "code",
   "execution_count": 14,
   "metadata": {},
   "outputs": [],
   "source": [
    "n = np.sin(2*m)"
   ]
  },
  {
   "cell_type": "code",
   "execution_count": 15,
   "metadata": {},
   "outputs": [
    {
     "data": {
      "text/plain": [
       "array([ 0.90929743, -0.54402111, -0.53657292, -0.53657292,  0.91294525,\n",
       "        0.91294525,  0.76255845,  0.55142668, -0.99177885,  0.29636858])"
      ]
     },
     "execution_count": 15,
     "metadata": {},
     "output_type": "execute_result"
    }
   ],
   "source": [
    "n"
   ]
  },
  {
   "cell_type": "code",
   "execution_count": 16,
   "metadata": {},
   "outputs": [
    {
     "data": {
      "image/png": "[encoded data removed]",
      "text/plain": [
       "<Figure size 432x288 with 1 Axes>"
      ]
     },
     "metadata": {},
     "output_type": "display_data"
    }
   ],
   "source": [
    "figure2 = plt.figure()\n",
    "ax2 = figure2.add_subplot(111)\n",
    "ax2.plot(m, n)\n",
    "ax2.grid()\n",
    "plt.show()\n",
    "figure2.savefig(\"sin2x\")"
   ]
  },
  {
   "cell_type": "code",
   "execution_count": 17,
   "metadata": {},
   "outputs": [],
   "source": [
    "a = np.array([[[1,2]], [[2,4]]])"
   ]
  },
  {
   "cell_type": "code",
   "execution_count": 18,
   "metadata": {},
   "outputs": [],
   "source": [
    "a.sort(axis=0)"
   ]
  },
  {
   "cell_type": "code",
   "execution_count": 19,
   "metadata": {},
   "outputs": [
    {
     "data": {
      "text/plain": [
       "(2, 1, 2)"
      ]
     },
     "execution_count": 19,
     "metadata": {},
     "output_type": "execute_result"
    }
   ],
   "source": [
    "a.shape"
   ]
  },
  {
   "cell_type": "code",
   "execution_count": 20,
   "metadata": {},
   "outputs": [
    {
     "data": {
      "text/plain": [
       "4"
      ]
     },
     "execution_count": 20,
     "metadata": {},
     "output_type": "execute_result"
    }
   ],
   "source": [
    "a.size"
   ]
  },
  {
   "cell_type": "code",
   "execution_count": 21,
   "metadata": {},
   "outputs": [],
   "source": [
    "b = np.array([[1,2,3],[4,5,6]])"
   ]
  },
  {
   "cell_type": "code",
   "execution_count": 22,
   "metadata": {},
   "outputs": [
    {
     "data": {
      "text/plain": [
       "(2, 3)"
      ]
     },
     "execution_count": 22,
     "metadata": {},
     "output_type": "execute_result"
    }
   ],
   "source": [
    "b.shape"
   ]
  },
  {
   "cell_type": "raw",
   "metadata": {},
   "source": []
  },
  {
   "cell_type": "raw",
   "metadata": {},
   "source": []
  }
 ],
 "metadata": {
  "kernelspec": {
   "display_name": "Python 3",
   "language": "python",
   "name": "python3"
  },
  "language_info": {
   "codemirror_mode": {
    "name": "ipython",
    "version": 3
   },
   "file_extension": ".py",
   "mimetype": "text/x-python",
   "name": "python",
   "nbconvert_exporter": "python",
   "pygments_lexer": "ipython3",
   "version": "3.6.5"
  }
 },
 "nbformat": 4,
 "nbformat_minor": 2
}
