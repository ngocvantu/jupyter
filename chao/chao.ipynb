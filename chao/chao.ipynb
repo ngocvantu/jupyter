{
 "cells": [
  {
   "cell_type": "code",
   "execution_count": 6,
   "metadata": {},
   "outputs": [],
   "source": [
    "import matplotlib\n",
    "import matplotlib.pyplot as plt\n",
    "import numpy as np"
   ]
  },
  {
   "cell_type": "code",
   "execution_count": 28,
   "metadata": {},
   "outputs": [],
   "source": [
    "x = np.arange(-5, 5, 0.2)\n",
    "y = x**3 + x + 1"
   ]
  },
  {
   "cell_type": "code",
   "execution_count": 29,
   "metadata": {},
   "outputs": [
    {
     "data": {
      "text/plain": [
       "array([-5.0000000e+00, -4.8000000e+00, -4.6000000e+00, -4.4000000e+00,\n",
       "       -4.2000000e+00, -4.0000000e+00, -3.8000000e+00, -3.6000000e+00,\n",
       "       -3.4000000e+00, -3.2000000e+00, -3.0000000e+00, -2.8000000e+00,\n",
       "       -2.6000000e+00, -2.4000000e+00, -2.2000000e+00, -2.0000000e+00,\n",
       "       -1.8000000e+00, -1.6000000e+00, -1.4000000e+00, -1.2000000e+00,\n",
       "       -1.0000000e+00, -8.0000000e-01, -6.0000000e-01, -4.0000000e-01,\n",
       "       -2.0000000e-01,  4.4408921e-15,  2.0000000e-01,  4.0000000e-01,\n",
       "        6.0000000e-01,  8.0000000e-01,  1.0000000e+00,  1.2000000e+00,\n",
       "        1.4000000e+00,  1.6000000e+00,  1.8000000e+00,  2.0000000e+00,\n",
       "        2.2000000e+00,  2.4000000e+00,  2.6000000e+00,  2.8000000e+00,\n",
       "        3.0000000e+00,  3.2000000e+00,  3.4000000e+00,  3.6000000e+00,\n",
       "        3.8000000e+00,  4.0000000e+00,  4.2000000e+00,  4.4000000e+00,\n",
       "        4.6000000e+00,  4.8000000e+00])"
      ]
     },
     "execution_count": 29,
     "metadata": {},
     "output_type": "execute_result"
    }
   ],
   "source": [
    "x"
   ]
  },
  {
   "cell_type": "code",
   "execution_count": 30,
   "metadata": {},
   "outputs": [
    {
     "data": {
      "text/plain": [
       "array([-129.   , -114.392, -100.936,  -88.584,  -77.288,  -67.   ,\n",
       "        -57.672,  -49.256,  -41.704,  -34.968,  -29.   ,  -23.752,\n",
       "        -19.176,  -15.224,  -11.848,   -9.   ,   -6.632,   -4.696,\n",
       "         -3.144,   -1.928,   -1.   ,   -0.312,    0.184,    0.536,\n",
       "          0.792,    1.   ,    1.208,    1.464,    1.816,    2.312,\n",
       "          3.   ,    3.928,    5.144,    6.696,    8.632,   11.   ,\n",
       "         13.848,   17.224,   21.176,   25.752,   31.   ,   36.968,\n",
       "         43.704,   51.256,   59.672,   69.   ,   79.288,   90.584,\n",
       "        102.936,  116.392])"
      ]
     },
     "execution_count": 30,
     "metadata": {},
     "output_type": "execute_result"
    }
   ],
   "source": [
    "y"
   ]
  },
  {
   "cell_type": "code",
   "execution_count": 47,
   "metadata": {},
   "outputs": [
    {
     "data": {
      "image/png": "[encoded data removed]",
      "text/plain": [
       "<Figure size 432x288 with 4 Axes>"
      ]
     },
     "metadata": {},
     "output_type": "display_data"
    }
   ],
   "source": [
    "fig = plt.figure()\n",
    "ax = fig.add_subplot(221)\n",
    "ax.plot(x, y, \"b\")\n",
    "ax.grid()\n",
    "ax = fig.add_subplot(222)\n",
    "ax.plot(x, y, \"r\")\n",
    "ax.grid()\n",
    "ax = fig.add_subplot(224)\n",
    "ax.plot(x, y, \"g\")\n",
    "ax.grid()\n",
    "ax = fig.add_subplot(223)\n",
    "ax.plot(x, y, \"y\")\n",
    "ax.grid()\n",
    "ax.set(xlabel=\"truc x\", ylabel=\"truc y\", title=\"ban do\")\n",
    "fig.\n",
    "fig.savefig(\"image/test.png\")"
   ]
  },
  {
   "cell_type": "code",
   "execution_count": null,
   "metadata": {},
   "outputs": [],
   "source": []
  }
 ],
 "metadata": {
  "kernelspec": {
   "display_name": "Python 3",
   "language": "python",
   "name": "python3"
  },
  "language_info": {
   "codemirror_mode": {
    "name": "ipython",
    "version": 3
   },
   "file_extension": ".py",
   "mimetype": "text/x-python",
   "name": "python",
   "nbconvert_exporter": "python",
   "pygments_lexer": "ipython3",
   "version": "3.6.5"
  }
 },
 "nbformat": 4,
 "nbformat_minor": 2
}
